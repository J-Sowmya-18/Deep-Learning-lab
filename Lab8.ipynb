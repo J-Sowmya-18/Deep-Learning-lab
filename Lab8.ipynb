{
  "nbformat": 4,
  "nbformat_minor": 0,
  "metadata": {
    "colab": {
      "provenance": [],
      "authorship_tag": "ABX9TyMXHOD/lxA8p6IKW5Jjcyo/",
      "include_colab_link": true
    },
    "kernelspec": {
      "name": "python3",
      "display_name": "Python 3"
    },
    "language_info": {
      "name": "python"
    }
  },
  "cells": [
    {
      "cell_type": "markdown",
      "metadata": {
        "id": "view-in-github",
        "colab_type": "text"
      },
      "source": [
        "<a href=\"https://colab.research.google.com/github/J-Sowmya-18/Deep-Learning-lab/blob/main/Lab8.ipynb\" target=\"_parent\"><img src=\"https://colab.research.google.com/assets/colab-badge.svg\" alt=\"Open In Colab\"/></a>"
      ]
    },
    {
      "cell_type": "code",
      "execution_count": 2,
      "metadata": {
        "colab": {
          "base_uri": "https://localhost:8080/"
        },
        "id": "f1g2aZ9acKOM",
        "outputId": "edc91759-a068-4aca-d9ca-50cf7d54dda3"
      },
      "outputs": [
        {
          "output_type": "stream",
          "name": "stdout",
          "text": [
            "Epoch 1/3\n",
            "\u001b[1m313/313\u001b[0m \u001b[32m━━━━━━━━━━━━━━━━━━━━\u001b[0m\u001b[37m\u001b[0m \u001b[1m454s\u001b[0m 1s/step - accuracy: 0.7005 - loss: 0.5569 - val_accuracy: 0.7366 - val_loss: 0.5280\n",
            "Epoch 2/3\n",
            "\u001b[1m313/313\u001b[0m \u001b[32m━━━━━━━━━━━━━━━━━━━━\u001b[0m\u001b[37m\u001b[0m \u001b[1m507s\u001b[0m 1s/step - accuracy: 0.8370 - loss: 0.3756 - val_accuracy: 0.8540 - val_loss: 0.3441\n",
            "Epoch 3/3\n",
            "\u001b[1m313/313\u001b[0m \u001b[32m━━━━━━━━━━━━━━━━━━━━\u001b[0m\u001b[37m\u001b[0m \u001b[1m489s\u001b[0m 1s/step - accuracy: 0.9177 - loss: 0.2194 - val_accuracy: 0.8732 - val_loss: 0.2978\n",
            "\u001b[1m782/782\u001b[0m \u001b[32m━━━━━━━━━━━━━━━━━━━━\u001b[0m\u001b[37m\u001b[0m \u001b[1m233s\u001b[0m 298ms/step - accuracy: 0.8697 - loss: 0.3057\n",
            "Test Accuracy: 0.8713600039482117\n"
          ]
        }
      ],
      "source": [
        "import numpy as np\n",
        "from keras.datasets import imdb\n",
        "from keras.models import Sequential\n",
        "from keras.layers import Embedding, LSTM, Dense\n",
        "from keras.preprocessing.sequence import pad_sequences\n",
        "\n",
        "# Load IMDB dataset\n",
        "max_features = 10000  # Top 10,000 most common words\n",
        "max_len = 500  # Only consider the first 500 words of each movie review\n",
        "\n",
        "(x_train, y_train), (x_test, y_test) = imdb.load_data(num_words=max_features)\n",
        "\n",
        "# Pad sequences to ensure uniform input size\n",
        "x_train = pad_sequences(x_train, maxlen=max_len)\n",
        "x_test = pad_sequences(x_test, maxlen=max_len)\n",
        "\n",
        "# Build LSTM model\n",
        "model = Sequential()\n",
        "model.add(Embedding(max_features, 128))  # Embedding layer for input representation\n",
        "model.add(LSTM(128))  # LSTM layer\n",
        "model.add(Dense(1, activation='sigmoid'))  # Output layer\n",
        "\n",
        "# Compile the model\n",
        "model.compile(optimizer='adam', loss='binary_crossentropy', metrics=['accuracy'])\n",
        "\n",
        "# Train the model\n",
        "model.fit(x_train, y_train, epochs=3, batch_size=64, validation_split=0.2)\n",
        "\n",
        "# Evaluate the model\n",
        "test_loss, test_acc = model.evaluate(x_test, y_test)\n",
        "print(f'Test Accuracy: {test_acc}')\n"
      ]
    },
    {
      "cell_type": "code",
      "source": [
        "# Reverse sequences\n",
        "x_train_reversed = np.array([x[::-1] for x in x_train])\n",
        "x_test_reversed = np.array([x[::-1] for x in x_test])\n",
        "\n",
        "# Train the LSTM model with reversed sequences\n",
        "model.fit(x_train_reversed, y_train, epochs=3, batch_size=64, validation_split=0.2)\n",
        "\n",
        "# Evaluate the model\n",
        "test_loss, test_acc = model.evaluate(x_test_reversed, y_test)\n",
        "print(f'Test Accuracy on Reversed Sequences: {test_acc}')\n"
      ],
      "metadata": {
        "colab": {
          "base_uri": "https://localhost:8080/"
        },
        "id": "KB-N029WdLNy",
        "outputId": "93c80b0b-2b15-47fd-ea44-afff6373ef07"
      },
      "execution_count": 3,
      "outputs": [
        {
          "output_type": "stream",
          "name": "stdout",
          "text": [
            "Epoch 1/3\n",
            "\u001b[1m313/313\u001b[0m \u001b[32m━━━━━━━━━━━━━━━━━━━━\u001b[0m\u001b[37m\u001b[0m \u001b[1m442s\u001b[0m 1s/step - accuracy: 0.5124 - loss: 0.7008 - val_accuracy: 0.5186 - val_loss: 0.6878\n",
            "Epoch 2/3\n",
            "\u001b[1m313/313\u001b[0m \u001b[32m━━━━━━━━━━━━━━━━━━━━\u001b[0m\u001b[37m\u001b[0m \u001b[1m443s\u001b[0m 1s/step - accuracy: 0.5278 - loss: 0.6779 - val_accuracy: 0.5210 - val_loss: 0.6796\n",
            "Epoch 3/3\n",
            "\u001b[1m313/313\u001b[0m \u001b[32m━━━━━━━━━━━━━━━━━━━━\u001b[0m\u001b[37m\u001b[0m \u001b[1m507s\u001b[0m 1s/step - accuracy: 0.5222 - loss: 0.6824 - val_accuracy: 0.5060 - val_loss: 0.7110\n",
            "\u001b[1m782/782\u001b[0m \u001b[32m━━━━━━━━━━━━━━━━━━━━\u001b[0m\u001b[37m\u001b[0m \u001b[1m229s\u001b[0m 293ms/step - accuracy: 0.5081 - loss: 0.7136\n",
            "Test Accuracy on Reversed Sequences: 0.5004000067710876\n"
          ]
        }
      ]
    },
    {
      "cell_type": "code",
      "source": [
        "from keras.layers import Bidirectional\n",
        "\n",
        "# Build a Bidirectional LSTM model\n",
        "model_bi = Sequential()\n",
        "model_bi.add(Embedding(max_features, 128))  # Embedding layer\n",
        "model_bi.add(Bidirectional(LSTM(128)))  # Bidirectional LSTM layer\n",
        "model_bi.add(Dense(1, activation='sigmoid'))  # Output layer\n",
        "\n",
        "# Compile the model\n",
        "model_bi.compile(optimizer='adam', loss='binary_crossentropy', metrics=['accuracy'])\n",
        "\n",
        "# Train the bidirectional LSTM model\n",
        "model_bi.fit(x_train, y_train, epochs=3, batch_size=64, validation_split=0.2)\n",
        "\n",
        "# Evaluate the bidirectional LSTM model\n",
        "test_loss_bi, test_acc_bi = model_bi.evaluate(x_test, y_test)\n",
        "print(f'Test Accuracy with Bidirectional LSTM: {test_acc_bi}')\n"
      ],
      "metadata": {
        "colab": {
          "base_uri": "https://localhost:8080/"
        },
        "id": "JRV_6-7FdWDG",
        "outputId": "15f30cae-1782-4d26-b58c-c720eadc2e5f"
      },
      "execution_count": 4,
      "outputs": [
        {
          "output_type": "stream",
          "name": "stdout",
          "text": [
            "Epoch 1/3\n",
            "\u001b[1m313/313\u001b[0m \u001b[32m━━━━━━━━━━━━━━━━━━━━\u001b[0m\u001b[37m\u001b[0m \u001b[1m843s\u001b[0m 3s/step - accuracy: 0.6707 - loss: 0.5792 - val_accuracy: 0.7994 - val_loss: 0.4372\n",
            "Epoch 2/3\n",
            "\u001b[1m313/313\u001b[0m \u001b[32m━━━━━━━━━━━━━━━━━━━━\u001b[0m\u001b[37m\u001b[0m \u001b[1m863s\u001b[0m 3s/step - accuracy: 0.8724 - loss: 0.3130 - val_accuracy: 0.8700 - val_loss: 0.3242\n",
            "Epoch 3/3\n",
            "\u001b[1m313/313\u001b[0m \u001b[32m━━━━━━━━━━━━━━━━━━━━\u001b[0m\u001b[37m\u001b[0m \u001b[1m844s\u001b[0m 3s/step - accuracy: 0.9257 - loss: 0.1995 - val_accuracy: 0.8634 - val_loss: 0.3249\n",
            "\u001b[1m782/782\u001b[0m \u001b[32m━━━━━━━━━━━━━━━━━━━━\u001b[0m\u001b[37m\u001b[0m \u001b[1m410s\u001b[0m 524ms/step - accuracy: 0.8580 - loss: 0.3453\n"
          ]
        }
      ]
    }
  ]
}