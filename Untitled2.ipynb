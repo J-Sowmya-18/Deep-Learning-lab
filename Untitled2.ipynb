{
  "nbformat": 4,
  "nbformat_minor": 0,
  "metadata": {
    "colab": {
      "provenance": [],
      "authorship_tag": "ABX9TyPtwDM/23fHl0XYaUuIOw4q",
      "include_colab_link": true
    },
    "kernelspec": {
      "name": "python3",
      "display_name": "Python 3"
    },
    "language_info": {
      "name": "python"
    }
  },
  "cells": [
    {
      "cell_type": "markdown",
      "metadata": {
        "id": "view-in-github",
        "colab_type": "text"
      },
      "source": [
        "<a href=\"https://colab.research.google.com/github/J-Sowmya-18/Deep-Learning-lab/blob/main/Untitled2.ipynb\" target=\"_parent\"><img src=\"https://colab.research.google.com/assets/colab-badge.svg\" alt=\"Open In Colab\"/></a>"
      ]
    },
    {
      "cell_type": "code",
      "execution_count": 3,
      "metadata": {
        "colab": {
          "base_uri": "https://localhost:8080/"
        },
        "id": "g0Ht9eHtBghl",
        "outputId": "26c84b2c-fe06-435e-c697-4b9b76233e97"
      },
      "outputs": [
        {
          "output_type": "stream",
          "name": "stdout",
          "text": [
            "[10, 10, 10]\n",
            "[10, 10, 10]\n",
            "[12, 10, 10]\n"
          ]
        }
      ],
      "source": [
        "X = [[1,2,3],\n",
        "    [4 ,5,6],\n",
        "    [9 ,8,9]]\n",
        "\n",
        "Y = [[9,8,7],\n",
        "    [6,5,4],\n",
        "    [3,2,1]]\n",
        "\n",
        "result = [[X[i][j] + Y[i][j]  for j in range\n",
        "(len(X[0]))] for i in range(len(X))]\n",
        "\n",
        "for r in result:\n",
        "    print(r)"
      ]
    },
    {
      "cell_type": "code",
      "source": [
        "import numpy as np\n",
        "A = [[1, 3, 3],\n",
        "    [4, 3, 6],\n",
        "    [7, 4, 5]]\n",
        "\n",
        "B = [[5, 8, 1, 2],\n",
        "    [6, 7, 0, 0],\n",
        "    [1, 5, 9, 1]]\n",
        "\n",
        "result= [[0,0,0,0],\n",
        "        [0,0,0,0],\n",
        "        [2,3,0,0]]\n",
        "\n",
        "result = np.dot(A,B)\n",
        "\n",
        "for r in result:\n",
        "    print(r)\n"
      ],
      "metadata": {
        "colab": {
          "base_uri": "https://localhost:8080/"
        },
        "id": "vvMSQ7pGCw9u",
        "outputId": "de7ee5a9-40e4-4a68-e871-b499fab5fac8"
      },
      "execution_count": 18,
      "outputs": [
        {
          "output_type": "stream",
          "name": "stdout",
          "text": [
            "[26 44 28  5]\n",
            "[44 83 58 14]\n",
            "[ 64 109  52  19]\n"
          ]
        }
      ]
    },
    {
      "cell_type": "code",
      "source": [
        "X = [[2,2,3],\n",
        "    [3 ,5,6],\n",
        "    [9,8,9],\n",
        "     [4,5,6]]\n",
        "\n",
        "Y = [[9,8,7],\n",
        "    [6,5,4],\n",
        "    [3,2,1],\n",
        "     [4,5,6]]\n",
        "\n",
        "\n",
        "result = [[0,0,0],\n",
        "         [0,0,0],\n",
        "         [9,0,0],\n",
        "          [0,0,0]]\n",
        "for i in range(len(X)):\n",
        "   for j in range(len(X[0])):\n",
        "       result[i][j] = X[i][j] * Y[i][j]\n",
        "\n",
        "for r in result:\n",
        "     print(r)"
      ],
      "metadata": {
        "colab": {
          "base_uri": "https://localhost:8080/"
        },
        "id": "0p19ADiBMbeM",
        "outputId": "a66765ba-e619-498a-a9a8-a1454bf360ca"
      },
      "execution_count": 27,
      "outputs": [
        {
          "output_type": "stream",
          "name": "stdout",
          "text": [
            "[18, 16, 21]\n",
            "[18, 25, 24]\n",
            "[27, 16, 9]\n",
            "[16, 25, 36]\n"
          ]
        }
      ]
    },
    {
      "cell_type": "code",
      "source": [
        "N, M = 4, 4\n",
        "def printIntersection(A, B):\n",
        "    for i in range(M):\n",
        "        for j in range(N):\n",
        "            if (A[i][j] == B[i][j]) :\n",
        "                print(A[i][j], end = \" \")\n",
        "            else :\n",
        "                print(\"* \", end = \" \")\n",
        "\n",
        "        print()\n",
        "if __name__ == \"__main__\" :\n",
        "\n",
        "    A = [ [2, 4, 6, 8 ],\n",
        "        [ 1, 3, 5, 7 ],\n",
        "        [ 8, 6, 4, 2 ],\n",
        "        [ 7, 5, 3, 1 ] ]\n",
        "\n",
        "    B = [ [ 2, 3, 6, 8 ],\n",
        "        [ 1, 3, 1, 2 ],\n",
        "        [ 8, 1, 4, 2 ],\n",
        "        [ 7, 5, 3, 9 ] ]\n",
        "\n",
        "    printIntersection(A, B)"
      ],
      "metadata": {
        "colab": {
          "base_uri": "https://localhost:8080/"
        },
        "id": "xOVy0XgiORvU",
        "outputId": "ffc8d613-c0aa-4888-feff-2d3238e8b16b"
      },
      "execution_count": 31,
      "outputs": [
        {
          "output_type": "stream",
          "name": "stdout",
          "text": [
            "2 *  6 8 \n",
            "1 3 *  *  \n",
            "8 *  4 2 \n",
            "7 5 3 *  \n"
          ]
        }
      ]
    },
    {
      "cell_type": "code",
      "source": [
        "import numpy as np\n",
        "matrix_a = np.matrix([[4, 2, 4], [3, 4, 5]])\n",
        "matrix_b = np.matrix([[5, 6, 7], [7, 8, 9]])\n",
        "matrix_c = np.matrix([[5,7,9],[9,5,4]])\n",
        "result = matrix_a * matrix_b.transpose()\n",
        "\n",
        "print(\"Result of Matrix Multiplication:\")\n",
        "print(result)"
      ],
      "metadata": {
        "colab": {
          "base_uri": "https://localhost:8080/"
        },
        "id": "kE2sVCdRE2Fl",
        "outputId": "276a63ac-831a-4607-d933-a4da67dad543"
      },
      "execution_count": 22,
      "outputs": [
        {
          "output_type": "stream",
          "name": "stdout",
          "text": [
            "Result of Matrix Multiplication:\n",
            "[[60 80]\n",
            " [74 98]]\n"
          ]
        }
      ]
    },
    {
      "cell_type": "code",
      "source": [
        "N, M = 3, 3\n",
        "def printIntersection(A, B):\n",
        "    for i in range(M):\n",
        "        for j in range(N):\n",
        "            if (A[i][j] == B[i][j]) :\n",
        "                print(A[i][j], end = \" \")\n",
        "            else :\n",
        "                print(\"# \", end = \" \")\n",
        "\n",
        "        print()\n",
        "if __name__ == \"__main__\" :\n",
        "\n",
        "    A = [ [2, 4, 6 ],\n",
        "        [ 1, 3, 5  ],\n",
        "        [ 8, 6, 4  ]]\n",
        "\n",
        "    B = [ [ 2, 3,4 ],\n",
        "        [ 1, 3, 1 ],\n",
        "        [ 8, 1, 4 ]]\n",
        "\n",
        "    printIntersection(A, B)"
      ],
      "metadata": {
        "colab": {
          "base_uri": "https://localhost:8080/"
        },
        "id": "x2RhwyzXPeVH",
        "outputId": "ff041b26-13a4-45f3-a5fd-c52c8514a724"
      },
      "execution_count": 48,
      "outputs": [
        {
          "output_type": "stream",
          "name": "stdout",
          "text": [
            "2 #  #  \n",
            "1 3 #  \n",
            "8 #  4 \n"
          ]
        }
      ]
    }
  ]
}